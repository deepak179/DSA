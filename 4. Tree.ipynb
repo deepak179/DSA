{
 "cells": [
  {
   "cell_type": "code",
   "execution_count": null,
   "metadata": {},
   "outputs": [],
   "source": [
    "# Node class which contain left pointer, right pointer and root data\n",
    "class Node:\n",
    "    def __init__(self, data):\n",
    "        self.data = data\n",
    "        self.left = None\n",
    "        self.right = None\n",
    "\n",
    "class Tree:\n",
    "    def __init__(self):\n",
    "        pass\n",
    "\n",
    "    def preOrder(root):\n",
    "        print()\n",
    "\n",
    "    def inOrder(root):\n",
    "\n",
    "\n",
    "    def postOrder(root):\n",
    "\n"
   ]
  }
 ],
 "metadata": {
  "language_info": {
   "name": "python"
  },
  "orig_nbformat": 4
 },
 "nbformat": 4,
 "nbformat_minor": 2
}
