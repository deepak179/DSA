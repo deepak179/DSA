{
 "cells": [
  {
   "cell_type": "code",
   "execution_count": null,
   "metadata": {},
   "outputs": [],
   "source": [
    "from collections import deque\n",
    "\n",
    "class Queue:\n",
    "    def __init__(self):\n",
    "        self.container = deque()\n",
    "        self.front = -1\n",
    "        self.rear = -1\n",
    "\n",
    "    def enqueue(self, data):\n",
    "        if self.is_empty():\n",
    "            self.container.append(data)\n",
    "            self.front = 0\n",
    "            self.rear = 0\n",
    "\n",
    "        else:\n",
    "            self.container.append(data)\n",
    "            self.rear += 1\n",
    "\n",
    "    def dequeue(self):\n",
    "        remove = self.container.popleft()\n",
    "        "
   ]
  },
  {
   "cell_type": "code",
   "execution_count": null,
   "metadata": {},
   "outputs": [],
   "source": []
  }
 ],
 "metadata": {
  "language_info": {
   "name": "python"
  },
  "orig_nbformat": 4
 },
 "nbformat": 4,
 "nbformat_minor": 2
}
