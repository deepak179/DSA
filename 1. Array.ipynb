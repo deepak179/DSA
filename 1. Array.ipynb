{
 "cells": [
  {
   "cell_type": "code",
   "execution_count": 1,
   "metadata": {},
   "outputs": [
    {
     "name": "stdout",
     "output_type": "stream",
     "text": [
      "67 is present at index 5\n"
     ]
    }
   ],
   "source": [
    "## Linear Search in Array\n",
    "## Best case - O(1)\n",
    "## Worst case - O(n)\n",
    "## Average case - O(n)\n",
    "\n",
    "arr = [20, 45, 27, 47, 55, 67, 75, 88, 90]\n",
    "x = 67\n",
    "\n",
    "def linear_search(arr, x):\n",
    "    for i in range(len(arr)):\n",
    "        if arr[i] == x:\n",
    "            return i\n",
    "    return -1\n",
    "\n",
    "result = linear_search(arr, x)\n",
    "print(x, \"is present at index\", result)"
   ]
  },
  {
   "cell_type": "code",
   "execution_count": 15,
   "metadata": {},
   "outputs": [
    {
     "name": "stdout",
     "output_type": "stream",
     "text": [
      "4\n"
     ]
    }
   ],
   "source": [
    "## Binary Search in Array\n",
    "## Time Complexity - O(log(n))\n",
    "\n",
    "def binary_search(arr, x, left, right):\n",
    "    mid = (left + right)//2\n",
    "    if arr[mid] == x:\n",
    "        return mid\n",
    "    elif arr[mid] < x:\n",
    "        return binary_search(arr, x, left, mid-1)\n",
    "    else:\n",
    "        return binary_search(arr, x, mid+1, right)\n",
    "    \n",
    "arr = [20, 45, 27, 47, 55, 67, 75, 88, 90]\n",
    "arr.sort()\n",
    "result = binary_search(arr, 55, 0, len(arr) - 1)\n",
    "print(result)"
   ]
  },
  {
   "cell_type": "code",
   "execution_count": 16,
   "metadata": {},
   "outputs": [],
   "source": [
    "arr = [2, 4, 2, 5, 1, 3]"
   ]
  },
  {
   "cell_type": "code",
   "execution_count": 17,
   "metadata": {},
   "outputs": [],
   "source": [
    "arr.sort()"
   ]
  },
  {
   "cell_type": "code",
   "execution_count": 18,
   "metadata": {},
   "outputs": [
    {
     "data": {
      "text/plain": [
       "[1, 2, 2, 3, 4, 5]"
      ]
     },
     "execution_count": 18,
     "metadata": {},
     "output_type": "execute_result"
    }
   ],
   "source": [
    "arr"
   ]
  },
  {
   "cell_type": "code",
   "execution_count": 5,
   "metadata": {},
   "outputs": [
    {
     "name": "stdout",
     "output_type": "stream",
     "text": [
      "[75, 80, 85, 90, 95, 100]\n"
     ]
    }
   ],
   "source": [
    "## Insertion Sort\n",
    "## Time Complexity ---- O(n**2)\n",
    "def insertion_sort(arr):\n",
    "    for i in range(1, len(arr)):\n",
    "        key = arr[i]\n",
    "        j = i - 1\n",
    "        while (j >= 0 and key < arr[j]):\n",
    "            arr[j+1] = arr[j]\n",
    "            j -= 1\n",
    "        arr[j+1] = key\n",
    "\n",
    "    return arr\n",
    "\n",
    "arr = [75, 90, 100, 95, 85, 80]\n",
    "result = insertion_sort(arr)\n",
    "print(result)"
   ]
  },
  {
   "cell_type": "code",
   "execution_count": null,
   "metadata": {},
   "outputs": [],
   "source": []
  }
 ],
 "metadata": {
  "kernelspec": {
   "display_name": "base",
   "language": "python",
   "name": "python3"
  },
  "language_info": {
   "codemirror_mode": {
    "name": "ipython",
    "version": 3
   },
   "file_extension": ".py",
   "mimetype": "text/x-python",
   "name": "python",
   "nbconvert_exporter": "python",
   "pygments_lexer": "ipython3",
   "version": "3.9.12"
  },
  "orig_nbformat": 4
 },
 "nbformat": 4,
 "nbformat_minor": 2
}
